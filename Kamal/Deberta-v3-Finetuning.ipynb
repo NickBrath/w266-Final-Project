{
 "cells": [
  {
   "cell_type": "code",
   "execution_count": 1,
   "id": "e7d552bc",
   "metadata": {
    "_cell_guid": "b1076dfc-b9ad-4769-8c92-a6c4dae69d19",
    "_uuid": "8f2839f25d086af736a60e9eeb907d3b93b6e0e5",
    "execution": {
     "iopub.execute_input": "2023-04-10T12:33:35.356452Z",
     "iopub.status.busy": "2023-04-10T12:33:35.355935Z",
     "iopub.status.idle": "2023-04-10T12:33:44.279101Z",
     "shell.execute_reply": "2023-04-10T12:33:44.277937Z"
    },
    "papermill": {
     "duration": 8.933999,
     "end_time": "2023-04-10T12:33:44.281923",
     "exception": false,
     "start_time": "2023-04-10T12:33:35.347924",
     "status": "completed"
    },
    "tags": []
   },
   "outputs": [
    {
     "name": "stdout",
     "output_type": "stream",
     "text": [
      "env: TOKENIZERS_PARALLELISM=false\n"
     ]
    }
   ],
   "source": [
    "%env TOKENIZERS_PARALLELISM=false\n",
    "import json\n",
    "import logging\n",
    "import math\n",
    "import os\n",
    "import random\n",
    "import matplotlib.pyplot as plt \n",
    "import sys\n",
    "from dataclasses import dataclass, field\n",
    "from itertools import chain\n",
    "from pathlib import Path\n",
    "from typing import Optional\n",
    "import numpy as np \n",
    "import pandas as pd \n",
    "import datasets\n",
    "import tensorflow as tf\n",
    "from datasets import load_dataset\n",
    "from sklearn.model_selection import train_test_split\n",
    "import transformers\n",
    "from transformers import AutoTokenizer , TFAutoModelForMaskedLM\n",
    "from transformers.utils import send_example_telemetry\n",
    "from transformers.utils.versions import require_version\n",
    "from tqdm.notebook import tqdm\n",
    "from datasets import Dataset\n",
    "from tensorflow.keras.models import Model\n",
    "import tensorflow.keras.backend as K\n",
    "from tqdm.notebook import tqdm\n",
    "import tensorflow_addons as tfa\n",
    "from sklearn.metrics import f1_score\n",
    "from ast import literal_eval\n",
    "import warnings \n",
    "from tensorflow.keras.layers import GlobalMaxPooling1D\n",
    "import matplotlib.pyplot as plt \n",
    "warnings.filterwarnings('ignore')\n",
    "pd.set_option(\"display.max_info_columns\", 200)\n",
    "from transformers.optimization_tf import AdamWeightDecay"
   ]
  },
  {
   "cell_type": "code",
   "execution_count": 2,
   "id": "c9873a2d",
   "metadata": {
    "execution": {
     "iopub.execute_input": "2023-04-10T12:33:44.296397Z",
     "iopub.status.busy": "2023-04-10T12:33:44.294318Z",
     "iopub.status.idle": "2023-04-10T12:34:05.978476Z",
     "shell.execute_reply": "2023-04-10T12:34:05.977172Z"
    },
    "papermill": {
     "duration": 21.693177,
     "end_time": "2023-04-10T12:34:05.980860",
     "exception": false,
     "start_time": "2023-04-10T12:33:44.287683",
     "status": "completed"
    },
    "tags": []
   },
   "outputs": [
    {
     "name": "stderr",
     "output_type": "stream",
     "text": [
      "All model checkpoint layers were used when initializing TFDebertaV2ForMaskedLM.\n",
      "\n",
      "All the layers of TFDebertaV2ForMaskedLM were initialized from the model checkpoint at /kaggle/input/project-mlm-nbme/nbme_mlm_model.\n",
      "If your task is similar to the task the model of the checkpoint was trained on, you can already use TFDebertaV2ForMaskedLM for predictions without further training.\n"
     ]
    }
   ],
   "source": [
    "# loading the pretrained model \n",
    "pretrained_model = TFAutoModelForMaskedLM.from_pretrained('/kaggle/input/project-mlm-nbme/nbme_mlm_model')\n"
   ]
  },
  {
   "cell_type": "code",
   "execution_count": 3,
   "id": "0aba1cb6",
   "metadata": {
    "execution": {
     "iopub.execute_input": "2023-04-10T12:34:05.993789Z",
     "iopub.status.busy": "2023-04-10T12:34:05.993471Z",
     "iopub.status.idle": "2023-04-10T12:34:06.774788Z",
     "shell.execute_reply": "2023-04-10T12:34:06.773696Z"
    },
    "papermill": {
     "duration": 0.790474,
     "end_time": "2023-04-10T12:34:06.777588",
     "exception": false,
     "start_time": "2023-04-10T12:34:05.987114",
     "status": "completed"
    },
    "tags": []
   },
   "outputs": [],
   "source": [
    "features_df = pd.read_csv(\"/kaggle/input/bighandsome/NBME/features.csv\")\n",
    "patient_notes_df = pd.read_csv(\"/kaggle/input/bighandsome/NBME/patient_notes.csv\")\n",
    "train_df = pd.read_csv(\"/kaggle/input/bighandsome/NBME/train.csv\")"
   ]
  },
  {
   "cell_type": "code",
   "execution_count": 4,
   "id": "7fdbef8c",
   "metadata": {
    "execution": {
     "iopub.execute_input": "2023-04-10T12:34:06.790115Z",
     "iopub.status.busy": "2023-04-10T12:34:06.789779Z",
     "iopub.status.idle": "2023-04-10T12:34:06.796063Z",
     "shell.execute_reply": "2023-04-10T12:34:06.794980Z"
    },
    "papermill": {
     "duration": 0.015204,
     "end_time": "2023-04-10T12:34:06.798529",
     "exception": false,
     "start_time": "2023-04-10T12:34:06.783325",
     "status": "completed"
    },
    "tags": []
   },
   "outputs": [],
   "source": [
    "@dataclass\n",
    "class config:\n",
    "    model:str=field(default=\"microsoft/deberta-v3-base\")\n",
    "    train_batch_size:int = field(default=8)\n",
    "    test_batch_size:int = field(default=16)\n",
    "    max_lenght:int = field(default=None)\n",
    "    learning_rate:float = field(default=5e-4)\n",
    "    epochs:int = field(default=5)\n"
   ]
  },
  {
   "cell_type": "code",
   "execution_count": 5,
   "id": "31dfdb60",
   "metadata": {
    "execution": {
     "iopub.execute_input": "2023-04-10T12:34:06.811561Z",
     "iopub.status.busy": "2023-04-10T12:34:06.811213Z",
     "iopub.status.idle": "2023-04-10T12:34:09.269671Z",
     "shell.execute_reply": "2023-04-10T12:34:09.268557Z"
    },
    "papermill": {
     "duration": 2.468194,
     "end_time": "2023-04-10T12:34:09.272211",
     "exception": false,
     "start_time": "2023-04-10T12:34:06.804017",
     "status": "completed"
    },
    "tags": []
   },
   "outputs": [
    {
     "data": {
      "application/vnd.jupyter.widget-view+json": {
       "model_id": "752a837439e14216a5499d3ec992a025",
       "version_major": 2,
       "version_minor": 0
      },
      "text/plain": [
       "Downloading (…)okenizer_config.json:   0%|          | 0.00/52.0 [00:00<?, ?B/s]"
      ]
     },
     "metadata": {},
     "output_type": "display_data"
    },
    {
     "data": {
      "application/vnd.jupyter.widget-view+json": {
       "model_id": "20ed27af0e9f4ec990d5cb22c770074d",
       "version_major": 2,
       "version_minor": 0
      },
      "text/plain": [
       "Downloading (…)lve/main/config.json:   0%|          | 0.00/579 [00:00<?, ?B/s]"
      ]
     },
     "metadata": {},
     "output_type": "display_data"
    },
    {
     "data": {
      "application/vnd.jupyter.widget-view+json": {
       "model_id": "5161026cf7334e1eb961c5134c17ef94",
       "version_major": 2,
       "version_minor": 0
      },
      "text/plain": [
       "Downloading spm.model:   0%|          | 0.00/2.46M [00:00<?, ?B/s]"
      ]
     },
     "metadata": {},
     "output_type": "display_data"
    },
    {
     "name": "stderr",
     "output_type": "stream",
     "text": [
      "Special tokens have been added in the vocabulary, make sure the associated word embeddings are fine-tuned or trained.\n",
      "Special tokens have been added in the vocabulary, make sure the associated word embeddings are fine-tuned or trained.\n"
     ]
    }
   ],
   "source": [
    "tokenizer = AutoTokenizer.from_pretrained(config.model)"
   ]
  },
  {
   "cell_type": "code",
   "execution_count": 6,
   "id": "c149024e",
   "metadata": {
    "execution": {
     "iopub.execute_input": "2023-04-10T12:34:09.287005Z",
     "iopub.status.busy": "2023-04-10T12:34:09.286074Z",
     "iopub.status.idle": "2023-04-10T12:34:09.334445Z",
     "shell.execute_reply": "2023-04-10T12:34:09.333311Z"
    },
    "papermill": {
     "duration": 0.058422,
     "end_time": "2023-04-10T12:34:09.337269",
     "exception": false,
     "start_time": "2023-04-10T12:34:09.278847",
     "status": "completed"
    },
    "tags": []
   },
   "outputs": [
    {
     "data": {
      "text/html": [
       "<div>\n",
       "<style scoped>\n",
       "    .dataframe tbody tr th:only-of-type {\n",
       "        vertical-align: middle;\n",
       "    }\n",
       "\n",
       "    .dataframe tbody tr th {\n",
       "        vertical-align: top;\n",
       "    }\n",
       "\n",
       "    .dataframe thead th {\n",
       "        text-align: right;\n",
       "    }\n",
       "</style>\n",
       "<table border=\"1\" class=\"dataframe\">\n",
       "  <thead>\n",
       "    <tr style=\"text-align: right;\">\n",
       "      <th></th>\n",
       "      <th>id</th>\n",
       "      <th>case_num</th>\n",
       "      <th>pn_num</th>\n",
       "      <th>feature_num</th>\n",
       "      <th>annotation</th>\n",
       "      <th>location</th>\n",
       "      <th>feature_text</th>\n",
       "      <th>pn_history</th>\n",
       "    </tr>\n",
       "  </thead>\n",
       "  <tbody>\n",
       "    <tr>\n",
       "      <th>0</th>\n",
       "      <td>00016_000</td>\n",
       "      <td>0</td>\n",
       "      <td>16</td>\n",
       "      <td>0</td>\n",
       "      <td>['dad with recent heart attcak']</td>\n",
       "      <td>['696 724']</td>\n",
       "      <td>Family-history-of-MI-OR-Family-history-of-myoc...</td>\n",
       "      <td>HPI: 17yo M presents with palpitations. Patien...</td>\n",
       "    </tr>\n",
       "    <tr>\n",
       "      <th>1</th>\n",
       "      <td>00016_001</td>\n",
       "      <td>0</td>\n",
       "      <td>16</td>\n",
       "      <td>1</td>\n",
       "      <td>['mom with \"thyroid disease']</td>\n",
       "      <td>['668 693']</td>\n",
       "      <td>Family-history-of-thyroid-disorder</td>\n",
       "      <td>HPI: 17yo M presents with palpitations. Patien...</td>\n",
       "    </tr>\n",
       "    <tr>\n",
       "      <th>2</th>\n",
       "      <td>00016_002</td>\n",
       "      <td>0</td>\n",
       "      <td>16</td>\n",
       "      <td>2</td>\n",
       "      <td>['chest pressure']</td>\n",
       "      <td>['203 217']</td>\n",
       "      <td>Chest-pressure</td>\n",
       "      <td>HPI: 17yo M presents with palpitations. Patien...</td>\n",
       "    </tr>\n",
       "    <tr>\n",
       "      <th>3</th>\n",
       "      <td>00016_003</td>\n",
       "      <td>0</td>\n",
       "      <td>16</td>\n",
       "      <td>3</td>\n",
       "      <td>['intermittent episodes', 'episode']</td>\n",
       "      <td>['70 91', '176 183']</td>\n",
       "      <td>Intermittent-symptoms</td>\n",
       "      <td>HPI: 17yo M presents with palpitations. Patien...</td>\n",
       "    </tr>\n",
       "    <tr>\n",
       "      <th>4</th>\n",
       "      <td>00016_004</td>\n",
       "      <td>0</td>\n",
       "      <td>16</td>\n",
       "      <td>4</td>\n",
       "      <td>['felt as if he were going to pass out']</td>\n",
       "      <td>['222 258']</td>\n",
       "      <td>Lightheaded</td>\n",
       "      <td>HPI: 17yo M presents with palpitations. Patien...</td>\n",
       "    </tr>\n",
       "  </tbody>\n",
       "</table>\n",
       "</div>"
      ],
      "text/plain": [
       "          id  case_num  pn_num  feature_num  \\\n",
       "0  00016_000         0      16            0   \n",
       "1  00016_001         0      16            1   \n",
       "2  00016_002         0      16            2   \n",
       "3  00016_003         0      16            3   \n",
       "4  00016_004         0      16            4   \n",
       "\n",
       "                                 annotation              location  \\\n",
       "0          ['dad with recent heart attcak']           ['696 724']   \n",
       "1             ['mom with \"thyroid disease']           ['668 693']   \n",
       "2                        ['chest pressure']           ['203 217']   \n",
       "3      ['intermittent episodes', 'episode']  ['70 91', '176 183']   \n",
       "4  ['felt as if he were going to pass out']           ['222 258']   \n",
       "\n",
       "                                        feature_text  \\\n",
       "0  Family-history-of-MI-OR-Family-history-of-myoc...   \n",
       "1                 Family-history-of-thyroid-disorder   \n",
       "2                                     Chest-pressure   \n",
       "3                              Intermittent-symptoms   \n",
       "4                                        Lightheaded   \n",
       "\n",
       "                                          pn_history  \n",
       "0  HPI: 17yo M presents with palpitations. Patien...  \n",
       "1  HPI: 17yo M presents with palpitations. Patien...  \n",
       "2  HPI: 17yo M presents with palpitations. Patien...  \n",
       "3  HPI: 17yo M presents with palpitations. Patien...  \n",
       "4  HPI: 17yo M presents with palpitations. Patien...  "
      ]
     },
     "execution_count": 6,
     "metadata": {},
     "output_type": "execute_result"
    }
   ],
   "source": [
    "df = pd.merge(train_df, features_df, on=['feature_num','case_num'], how='inner')\n",
    "df =pd.merge(df, patient_notes_df, on=['pn_num','case_num'], how='inner')\n",
    "df.head()"
   ]
  },
  {
   "cell_type": "code",
   "execution_count": 7,
   "id": "16513353",
   "metadata": {
    "execution": {
     "iopub.execute_input": "2023-04-10T12:34:09.350972Z",
     "iopub.status.busy": "2023-04-10T12:34:09.350683Z",
     "iopub.status.idle": "2023-04-10T12:34:17.120089Z",
     "shell.execute_reply": "2023-04-10T12:34:17.118813Z"
    },
    "papermill": {
     "duration": 7.78172,
     "end_time": "2023-04-10T12:34:17.125307",
     "exception": false,
     "start_time": "2023-04-10T12:34:09.343587",
     "status": "completed"
    },
    "tags": []
   },
   "outputs": [
    {
     "data": {
      "application/vnd.jupyter.widget-view+json": {
       "model_id": "87cd13018a634ccca45a09a5a21c7068",
       "version_major": 2,
       "version_minor": 0
      },
      "text/plain": [
       "  0%|          | 0/14300 [00:00<?, ?it/s]"
      ]
     },
     "metadata": {},
     "output_type": "display_data"
    },
    {
     "name": "stdout",
     "output_type": "stream",
     "text": [
      "pn_history max(lengths): 309\n"
     ]
    },
    {
     "data": {
      "application/vnd.jupyter.widget-view+json": {
       "model_id": "8d95396e50e7468ea365436cd7814d0e",
       "version_major": 2,
       "version_minor": 0
      },
      "text/plain": [
       "  0%|          | 0/14300 [00:00<?, ?it/s]"
      ]
     },
     "metadata": {},
     "output_type": "display_data"
    },
    {
     "name": "stdout",
     "output_type": "stream",
     "text": [
      "feature_text  max(lengths): 28\n",
      "max_len: 340\n"
     ]
    }
   ],
   "source": [
    "pn_history_lengths = []\n",
    "tk0 = tqdm(df['pn_history'].fillna(\"\").values, total=len(df))\n",
    "for text in tk0:\n",
    "    length = tokenizer.encode(text,add_special_tokens=False)\n",
    "        \n",
    "    pn_history_lengths.append(len(length))\n",
    "print(f'pn_history max(lengths): {max(pn_history_lengths)}')\n",
    "\n",
    "\n",
    "features_lengths=[]\n",
    "tk1 = tqdm(df['feature_text'].fillna(\"\").values, total=len(df))\n",
    "for text in tk1:\n",
    "    length = tokenizer.encode(text,add_special_tokens=False)\n",
    "    features_lengths.append(len(length))\n",
    "print(f'feature_text  max(lengths): {max(features_lengths)}')\n",
    "\n",
    "max_lenght= max(pn_history_lengths) + max(features_lengths) + 3 # cls & sep & sep\n",
    "print(f\"max_len: {max_lenght}\")\n",
    "\n",
    "config.max_lenght=max_lenght"
   ]
  },
  {
   "cell_type": "code",
   "execution_count": 8,
   "id": "cc604c66",
   "metadata": {
    "execution": {
     "iopub.execute_input": "2023-04-10T12:34:17.140482Z",
     "iopub.status.busy": "2023-04-10T12:34:17.140175Z",
     "iopub.status.idle": "2023-04-10T12:34:17.336399Z",
     "shell.execute_reply": "2023-04-10T12:34:17.335341Z"
    },
    "papermill": {
     "duration": 0.206919,
     "end_time": "2023-04-10T12:34:17.339305",
     "exception": false,
     "start_time": "2023-04-10T12:34:17.132386",
     "status": "completed"
    },
    "tags": []
   },
   "outputs": [],
   "source": [
    "# always use literal_eval instead of eval https://nedbatchelder.com/blog/201206/eval_really_is_dangerous.html\n",
    "df[\"annotation\"] = [literal_eval(x) for x in df[\"annotation\"]] \n",
    "df[\"location\"] = [literal_eval(x) for x in df[\"location\"]]"
   ]
  },
  {
   "cell_type": "code",
   "execution_count": 9,
   "id": "d9856192",
   "metadata": {
    "execution": {
     "iopub.execute_input": "2023-04-10T12:34:17.355114Z",
     "iopub.status.busy": "2023-04-10T12:34:17.354763Z",
     "iopub.status.idle": "2023-04-10T12:34:17.361428Z",
     "shell.execute_reply": "2023-04-10T12:34:17.360471Z"
    },
    "papermill": {
     "duration": 0.016316,
     "end_time": "2023-04-10T12:34:17.363442",
     "exception": false,
     "start_time": "2023-04-10T12:34:17.347126",
     "status": "completed"
    },
    "tags": []
   },
   "outputs": [],
   "source": [
    "def loc_list_to_ints(loc_list):\n",
    "    to_return = []\n",
    "    for loc_str in loc_list:  \n",
    "        loc_strs = loc_str.split(\";\")\n",
    "        for loc in loc_strs:\n",
    "            start, end = loc.split()\n",
    "            to_return.append((int(start), int(end)))\n",
    "    return to_return"
   ]
  },
  {
   "cell_type": "code",
   "execution_count": 10,
   "id": "e175670d",
   "metadata": {
    "execution": {
     "iopub.execute_input": "2023-04-10T12:34:17.378462Z",
     "iopub.status.busy": "2023-04-10T12:34:17.377439Z",
     "iopub.status.idle": "2023-04-10T12:34:17.389985Z",
     "shell.execute_reply": "2023-04-10T12:34:17.389120Z"
    },
    "papermill": {
     "duration": 0.022228,
     "end_time": "2023-04-10T12:34:17.392116",
     "exception": false,
     "start_time": "2023-04-10T12:34:17.369888",
     "status": "completed"
    },
    "tags": []
   },
   "outputs": [],
   "source": [
    "def classLabeling(pn_history, feature_text, annotation, location, tokenizer, max_len):    ##X , Y, selected_text  \n",
    "    \n",
    "\n",
    "    location_list = loc_list_to_ints(location)   # convert the locations into a list \n",
    "\n",
    "\n",
    "    char_targets = [0] * len(pn_history)  # creation of character taragert you can reason below \n",
    "\n",
    "    for loc,anno in zip(location_list ,annotation):        \n",
    "        \n",
    "        len_st = int(loc[1]) - int(loc[0])\n",
    "        idx0 = None\n",
    "        idx1 = None        \n",
    "        for ind in (i for i, e in enumerate(pn_history) if (e == anno[0] and i == int(loc[0]))): # Only if the annotation start with character we are interested and look and character annotation postion match go inside the loop\n",
    "        \n",
    "            if pn_history[ind: ind+len_st] == anno.strip():\n",
    "\n",
    "                idx0 = ind\n",
    "                idx1 = ind + len_st - 1\n",
    "                if idx0 != None and idx1 != None:\n",
    "                    for ct in range(idx0, idx1 + 1): # make character targets as \"1\" for them \n",
    "                        char_targets[ct] = 1 \n",
    "                break\n",
    "    # Tokenize the data and here we are returing the offstes which we gone use as labels which you can find below \n",
    "    tokenized_input = tokenizer.encode_plus(feature_text,pn_history,return_attention_mask=True,\n",
    "                                                  return_offsets_mapping=True,return_token_type_ids=True)\n",
    "    \n",
    "    input_ids = tokenized_input['input_ids']\n",
    "    mask = tokenized_input['attention_mask']\n",
    "    token_type_ids = tokenized_input['token_type_ids']\n",
    "    offsets = tokenized_input['offset_mapping']\n",
    "    \n",
    "    target_idx = []\n",
    "    for j, (offset1, offset2) in enumerate(offsets): # look for offsets \n",
    "        if sum(char_targets[offset1: offset2]) > 0: # if the lenght of the char_target for particualr target is greater than 0 then added one at that offsets \n",
    "            target_idx.append(j)\n",
    "            \n",
    "    #padding\n",
    "    padding_length = max_len- len(input_ids) # Since we used 312 as max_lenght incase if we less lenght we need to pad the zeros \n",
    "    if padding_length > 0:\n",
    "        input_ids = input_ids + ([0] * padding_length)\n",
    "        mask = mask + ([0] * padding_length)\n",
    "        token_type_ids = token_type_ids + ([0] * padding_length)\n",
    "        offsets = offsets + ([(0, 0)] * padding_length)\n",
    "       \n",
    "    #creating label\n",
    "    ignore_idxes = np.where(np.array(token_type_ids) != 1)[0] # Bascially we use token type ids Segment token indices to indicate first and second portions of the input\n",
    "\n",
    "    label = np.zeros(len(offsets))\n",
    "    label[ignore_idxes] = 0.0 # creating a labels zero for not interested to look \n",
    "    label[target_idx] = 1.0  # label for which we are interested to look\n",
    "    return {\n",
    "    'ids': input_ids,\n",
    "    'mask': mask,\n",
    "    'token_type_ids': token_type_ids,\n",
    "    'labels': label,\n",
    "    'offsets': offsets\n",
    "}"
   ]
  },
  {
   "cell_type": "code",
   "execution_count": 11,
   "id": "ea98877a",
   "metadata": {
    "execution": {
     "iopub.execute_input": "2023-04-10T12:34:17.406880Z",
     "iopub.status.busy": "2023-04-10T12:34:17.405943Z",
     "iopub.status.idle": "2023-04-10T12:34:17.413810Z",
     "shell.execute_reply": "2023-04-10T12:34:17.412860Z"
    },
    "papermill": {
     "duration": 0.017952,
     "end_time": "2023-04-10T12:34:17.416492",
     "exception": false,
     "start_time": "2023-04-10T12:34:17.398540",
     "status": "completed"
    },
    "tags": []
   },
   "outputs": [],
   "source": [
    "# define the function to create the dataset\n",
    "def create_dataset(data):\n",
    "    # create empty lists to store inputs and labels\n",
    "    ids, masks, token_types, labels = [], [], [], []\n",
    "\n",
    "    for index,row in data.iterrows():\n",
    "\n",
    "        # extract the inputs and labels using classLabeling function\n",
    "        inputs = classLabeling(row['pn_history'], row['feature_text'], \n",
    "                               row['annotation'], row['location'], \n",
    "                               tokenizer, config.max_lenght)\n",
    "\n",
    "        # append the inputs and labels to the respective lists\n",
    "        ids.append(inputs['ids'])\n",
    "        masks.append(inputs['mask'])\n",
    "        token_types.append(inputs['token_type_ids'])\n",
    "        labels.append(inputs['labels'])\n",
    "\n",
    "    # convert the lists to numpy arrays\n",
    "    ids = np.array(ids)\n",
    "    attention_masks = np.array(masks)\n",
    "    token_type_ids = np.array(token_types)\n",
    "    labels = np.array(labels)\n",
    "\n",
    "\n",
    "    return {\"input_ids\":ids,\"attention_mask\": attention_masks,\"token_type_ids\":token_type_ids},labels"
   ]
  },
  {
   "cell_type": "code",
   "execution_count": 12,
   "id": "54e7d6a3",
   "metadata": {
    "execution": {
     "iopub.execute_input": "2023-04-10T12:34:17.433065Z",
     "iopub.status.busy": "2023-04-10T12:34:17.431187Z",
     "iopub.status.idle": "2023-04-10T12:34:17.445937Z",
     "shell.execute_reply": "2023-04-10T12:34:17.444995Z"
    },
    "papermill": {
     "duration": 0.025013,
     "end_time": "2023-04-10T12:34:17.448126",
     "exception": false,
     "start_time": "2023-04-10T12:34:17.423113",
     "status": "completed"
    },
    "tags": []
   },
   "outputs": [],
   "source": [
    "precision = tf.keras.metrics.Precision()\n",
    "recall = tf.keras.metrics.Recall()\n",
    "# Define function to calculate F1 score\n",
    "def f1_score(y_true, y_pred):\n",
    "    precision_val = precision(y_true, y_pred)\n",
    "    recall_val = recall(y_true, y_pred)"
   ]
  },
  {
   "cell_type": "code",
   "execution_count": null,
   "id": "6f0c381e",
   "metadata": {
    "papermill": {
     "duration": 0.00662,
     "end_time": "2023-04-10T12:34:17.461255",
     "exception": false,
     "start_time": "2023-04-10T12:34:17.454635",
     "status": "completed"
    },
    "tags": []
   },
   "outputs": [],
   "source": []
  },
  {
   "cell_type": "code",
   "execution_count": 13,
   "id": "436c12eb",
   "metadata": {
    "execution": {
     "iopub.execute_input": "2023-04-10T12:34:17.476232Z",
     "iopub.status.busy": "2023-04-10T12:34:17.474942Z",
     "iopub.status.idle": "2023-04-10T12:34:17.481276Z",
     "shell.execute_reply": "2023-04-10T12:34:17.480391Z"
    },
    "papermill": {
     "duration": 0.015663,
     "end_time": "2023-04-10T12:34:17.483339",
     "exception": false,
     "start_time": "2023-04-10T12:34:17.467676",
     "status": "completed"
    },
    "tags": []
   },
   "outputs": [],
   "source": [
    "# create df dataset\n",
    "train_df = df.iloc[:int(0.8*len(df)),:]\n",
    "val_df   = df.iloc[int(0.8*len(df)):,:]"
   ]
  },
  {
   "cell_type": "code",
   "execution_count": 14,
   "id": "69cf9433",
   "metadata": {
    "execution": {
     "iopub.execute_input": "2023-04-10T12:34:17.497897Z",
     "iopub.status.busy": "2023-04-10T12:34:17.497114Z",
     "iopub.status.idle": "2023-04-10T12:34:32.689653Z",
     "shell.execute_reply": "2023-04-10T12:34:32.688536Z"
    },
    "papermill": {
     "duration": 15.202633,
     "end_time": "2023-04-10T12:34:32.692314",
     "exception": false,
     "start_time": "2023-04-10T12:34:17.489681",
     "status": "completed"
    },
    "tags": []
   },
   "outputs": [],
   "source": [
    "train_data , train_labels =create_dataset(train_df)\n",
    "val_data , val_labels = create_dataset(val_df)"
   ]
  },
  {
   "cell_type": "code",
   "execution_count": 15,
   "id": "e284ab39",
   "metadata": {
    "execution": {
     "iopub.execute_input": "2023-04-10T12:34:32.707503Z",
     "iopub.status.busy": "2023-04-10T12:34:32.706877Z",
     "iopub.status.idle": "2023-04-10T12:34:32.714214Z",
     "shell.execute_reply": "2023-04-10T12:34:32.713084Z"
    },
    "papermill": {
     "duration": 0.017009,
     "end_time": "2023-04-10T12:34:32.716224",
     "exception": false,
     "start_time": "2023-04-10T12:34:32.699215",
     "status": "completed"
    },
    "tags": []
   },
   "outputs": [],
   "source": [
    "class F1Score(tf.keras.metrics.Metric):\n",
    "    def __init__(self, name='f1', **kwargs):\n",
    "        super(F1Score, self).__init__(name=name, **kwargs)\n",
    "        self.f1 = tfa.metrics.F1Score(num_classes=2, average='micro', threshold=0.50)\n",
    "\n",
    "    def update_state(self, y_true, y_pred, sample_weight=None):\n",
    "        y_true = tf.reshape(y_true, (-1,config.max_lenght))\n",
    "        y_pred = tf.reshape(y_pred, (-1,config.max_lenght))\n",
    "        self.f1.update_state(y_true, y_pred)\n",
    "        \n",
    "    def reset_state(self):\n",
    "        self.f1.reset_state()\n",
    "    \n",
    "    def result(self):\n",
    "        return self.f1.result()"
   ]
  },
  {
   "cell_type": "code",
   "execution_count": null,
   "id": "4e336f56",
   "metadata": {
    "execution": {
     "iopub.execute_input": "2023-04-10T12:32:41.417356Z",
     "iopub.status.busy": "2023-04-10T12:32:41.416650Z",
     "iopub.status.idle": "2023-04-10T12:32:41.441070Z",
     "shell.execute_reply": "2023-04-10T12:32:41.439918Z",
     "shell.execute_reply.started": "2023-04-10T12:32:41.417318Z"
    },
    "papermill": {
     "duration": 0.006163,
     "end_time": "2023-04-10T12:34:32.728833",
     "exception": false,
     "start_time": "2023-04-10T12:34:32.722670",
     "status": "completed"
    },
    "tags": []
   },
   "outputs": [],
   "source": []
  },
  {
   "cell_type": "code",
   "execution_count": 16,
   "id": "b106680e",
   "metadata": {
    "execution": {
     "iopub.execute_input": "2023-04-10T12:34:32.743128Z",
     "iopub.status.busy": "2023-04-10T12:34:32.742382Z",
     "iopub.status.idle": "2023-04-10T12:34:32.749978Z",
     "shell.execute_reply": "2023-04-10T12:34:32.749036Z"
    },
    "papermill": {
     "duration": 0.016806,
     "end_time": "2023-04-10T12:34:32.752029",
     "exception": false,
     "start_time": "2023-04-10T12:34:32.735223",
     "status": "completed"
    },
    "tags": []
   },
   "outputs": [],
   "source": [
    "def create_bert_model(hidden_size=100,learning_rate=config.learning_rate):\n",
    "    \n",
    "    input_ids = tf.keras.layers.Input(shape=(config.max_lenght,), dtype=tf.int32, name=\"input_ids\")\n",
    "    attention_mask = tf.keras.layers.Input(shape=(config.max_lenght,), dtype=tf.int32, name=\"attention_mask\")\n",
    "    token_type_ids = tf.keras.layers.Input(shape=(config.max_lenght,), dtype=tf.int32, name=\"token_type_ids\")\n",
    "\n",
    "    last_hidden_state = pretrained_model(input_ids= input_ids,attention_mask=attention_mask,token_type_ids=token_type_ids, training=True)\n",
    "\n",
    "    output = tf.keras.layers.Dense(1,activation='sigmoid')(last_hidden_state.logits)\n",
    "    \n",
    "    model_history = tf.keras.Model(inputs=[input_ids,attention_mask,token_type_ids], outputs=[output])\n",
    "    \n",
    "    model_history.compile(optimizer=tf.keras.optimizers.Adam(learning_rate=learning_rate),\n",
    "                                 loss = tf.keras.losses.BinaryCrossentropy(from_logits=False), \n",
    "                                 metrics=[ F1Score()])\n",
    "    \n",
    "    return model_history"
   ]
  },
  {
   "cell_type": "code",
   "execution_count": 17,
   "id": "a89eb97c",
   "metadata": {
    "execution": {
     "iopub.execute_input": "2023-04-10T12:34:32.767033Z",
     "iopub.status.busy": "2023-04-10T12:34:32.765574Z",
     "iopub.status.idle": "2023-04-10T12:34:42.346534Z",
     "shell.execute_reply": "2023-04-10T12:34:42.345515Z"
    },
    "papermill": {
     "duration": 9.591145,
     "end_time": "2023-04-10T12:34:42.349508",
     "exception": false,
     "start_time": "2023-04-10T12:34:32.758363",
     "status": "completed"
    },
    "tags": []
   },
   "outputs": [],
   "source": [
    "model_history = create_bert_model()"
   ]
  },
  {
   "cell_type": "code",
   "execution_count": 18,
   "id": "3dc0b3d7",
   "metadata": {
    "execution": {
     "iopub.execute_input": "2023-04-10T12:34:42.364091Z",
     "iopub.status.busy": "2023-04-10T12:34:42.363770Z",
     "iopub.status.idle": "2023-04-10T12:34:42.415527Z",
     "shell.execute_reply": "2023-04-10T12:34:42.414343Z"
    },
    "papermill": {
     "duration": 0.061329,
     "end_time": "2023-04-10T12:34:42.417675",
     "exception": false,
     "start_time": "2023-04-10T12:34:42.356346",
     "status": "completed"
    },
    "tags": []
   },
   "outputs": [
    {
     "name": "stdout",
     "output_type": "stream",
     "text": [
      "Model: \"model\"\n",
      "__________________________________________________________________________________________________\n",
      " Layer (type)                   Output Shape         Param #     Connected to                     \n",
      "==================================================================================================\n",
      " input_ids (InputLayer)         [(None, 340)]        0           []                               \n",
      "                                                                                                  \n",
      " attention_mask (InputLayer)    [(None, 340)]        0           []                               \n",
      "                                                                                                  \n",
      " token_type_ids (InputLayer)    [(None, 340)]        0           []                               \n",
      "                                                                                                  \n",
      " tf_deberta_v2_for_masked_lm (T  TFMaskedLMOutput(lo  184551780  ['input_ids[0][0]',              \n",
      " FDebertaV2ForMaskedLM)         ss=None, logits=(No               'attention_mask[0][0]',         \n",
      "                                ne, 340, 128100),                 'token_type_ids[0][0]']         \n",
      "                                 hidden_states=None                                               \n",
      "                                , attentions=None)                                                \n",
      "                                                                                                  \n",
      " dense (Dense)                  (None, 340, 1)       128101      ['tf_deberta_v2_for_masked_lm[0][\n",
      "                                                                 0]']                             \n",
      "                                                                                                  \n",
      "==================================================================================================\n",
      "Total params: 184,679,881\n",
      "Trainable params: 184,679,881\n",
      "Non-trainable params: 0\n",
      "__________________________________________________________________________________________________\n"
     ]
    }
   ],
   "source": [
    "model_history.summary()"
   ]
  },
  {
   "cell_type": "code",
   "execution_count": 19,
   "id": "631c2608",
   "metadata": {
    "execution": {
     "iopub.execute_input": "2023-04-10T12:34:42.434461Z",
     "iopub.status.busy": "2023-04-10T12:34:42.434182Z",
     "iopub.status.idle": "2023-04-10T12:34:42.440217Z",
     "shell.execute_reply": "2023-04-10T12:34:42.439217Z"
    },
    "papermill": {
     "duration": 0.016778,
     "end_time": "2023-04-10T12:34:42.442262",
     "exception": false,
     "start_time": "2023-04-10T12:34:42.425484",
     "status": "completed"
    },
    "tags": []
   },
   "outputs": [],
   "source": [
    "early_stop = tf.keras.callbacks.EarlyStopping(\n",
    "    monitor='val_loss', # look at val before we stop the training \n",
    "    min_delta=0.01,  #  if min_delta is set to 0.001 and the monitored quantity is validation loss, then if the validation loss decreases by less than 0.001 from the previous epoch, it will not be considered as an improvement, and the EarlyStopping callback will wait for more significant improvements before stopping the training.\n",
    "    patience=5, # patience refers to the number of epochs the training process can continue without improvement in the monitored quantity (e.g., validation loss or accuracy) before the training process is stopped.\n",
    "    verbose=1, # logging messages printed to the console at the end of each epoch\n",
    "    mode='auto', # to decrese the loss \n",
    "    restore_best_weights=True # to save best weights\n",
    ")\n",
    "\n",
    "reduce_lr = tf.keras.callbacks.ReduceLROnPlateau(\n",
    "    monitor='val_loss', # look at val loss \n",
    "    factor=0.01,  # factor the learning rate to be decereased \n",
    "    patience=5,  # no.of epochs to be monitored \n",
    "    mode='auto', # to decrease loss \n",
    "    min_delta=0.001, # #  if min_delta is set to 0.001 and the monitored quantity is validation loss, then if the validation loss decreases by less than 0.001 from the previous epoch, it will not be considered as an improvement.\n",
    "    verbose = 1\n",
    ")"
   ]
  },
  {
   "cell_type": "code",
   "execution_count": 20,
   "id": "975a59d1",
   "metadata": {
    "execution": {
     "iopub.execute_input": "2023-04-10T12:34:42.458786Z",
     "iopub.status.busy": "2023-04-10T12:34:42.458523Z",
     "iopub.status.idle": "2023-04-10T14:27:37.961974Z",
     "shell.execute_reply": "2023-04-10T14:27:37.960743Z"
    },
    "papermill": {
     "duration": 6775.514541,
     "end_time": "2023-04-10T14:27:37.964731",
     "exception": false,
     "start_time": "2023-04-10T12:34:42.450190",
     "status": "completed"
    },
    "tags": []
   },
   "outputs": [
    {
     "name": "stdout",
     "output_type": "stream",
     "text": [
      "Epoch 1/5\n",
      "1430/1430 [==============================] - 1395s 940ms/step - loss: 0.1661 - f1: 0.0027 - val_loss: 0.0816 - val_f1: 0.0000e+00 - lr: 5.0000e-04\n",
      "Epoch 2/5\n",
      "1430/1430 [==============================] - 1336s 934ms/step - loss: 0.1138 - f1: 0.0000e+00 - val_loss: 0.0816 - val_f1: 0.0000e+00 - lr: 5.0000e-04\n",
      "Epoch 3/5\n",
      "1430/1430 [==============================] - 1329s 929ms/step - loss: 0.1138 - f1: 0.0000e+00 - val_loss: 0.0816 - val_f1: 0.0000e+00 - lr: 5.0000e-04\n",
      "Epoch 4/5\n",
      "1430/1430 [==============================] - 1336s 934ms/step - loss: 0.1138 - f1: 0.0000e+00 - val_loss: 0.0816 - val_f1: 0.0000e+00 - lr: 5.0000e-04\n",
      "Epoch 5/5\n",
      "1430/1430 [==============================] - 1336s 934ms/step - loss: 0.1138 - f1: 0.0000e+00 - val_loss: 0.0816 - val_f1: 0.0000e+00 - lr: 5.0000e-04\n"
     ]
    }
   ],
   "source": [
    "model_history_fine_tuned = model_history.fit(\n",
    "    (train_data['input_ids'],train_data['attention_mask'],train_data['token_type_ids']),\n",
    "    train_labels,\n",
    "    validation_data=((val_data['input_ids'],val_data['attention_mask'],val_data['token_type_ids']), val_labels),\n",
    "    batch_size=config.train_batch_size,\n",
    "    epochs=config.epochs,\n",
    "    callbacks = [early_stop, reduce_lr]\n",
    ")  "
   ]
  },
  {
   "cell_type": "code",
   "execution_count": 21,
   "id": "f35e8d5b",
   "metadata": {
    "execution": {
     "iopub.execute_input": "2023-04-10T14:27:38.745840Z",
     "iopub.status.busy": "2023-04-10T14:27:38.745474Z",
     "iopub.status.idle": "2023-04-10T14:27:39.013745Z",
     "shell.execute_reply": "2023-04-10T14:27:39.012739Z"
    },
    "papermill": {
     "duration": 0.657535,
     "end_time": "2023-04-10T14:27:39.015877",
     "exception": false,
     "start_time": "2023-04-10T14:27:38.358342",
     "status": "completed"
    },
    "tags": []
   },
   "outputs": [
    {
     "data": {
      "image/png": "[encoded data removed]",
      "text/plain": [
       "<Figure size 1500x500 with 1 Axes>"
      ]
     },
     "metadata": {},
     "output_type": "display_data"
    }
   ],
   "source": [
    "plt.figure(figsize=(15,5))\n",
    "plt.plot(range(model_history_fine_tuned.epoch[-1]+1),model_history_fine_tuned.history['val_loss'],label='val_loss')\n",
    "plt.plot(range(model_history_fine_tuned.epoch[-1]+1),model_history_fine_tuned.history['loss'],label='loss')\n",
    "plt.title('loss'); plt.xlabel('Epoch'); plt.ylabel('loss');plt.legend(); \n",
    "plt.show()"
   ]
  },
  {
   "cell_type": "code",
   "execution_count": 22,
   "id": "05bf5006",
   "metadata": {
    "execution": {
     "iopub.execute_input": "2023-04-10T14:27:39.860477Z",
     "iopub.status.busy": "2023-04-10T14:27:39.859431Z",
     "iopub.status.idle": "2023-04-10T14:27:40.109927Z",
     "shell.execute_reply": "2023-04-10T14:27:40.108938Z"
    },
    "papermill": {
     "duration": 0.709841,
     "end_time": "2023-04-10T14:27:40.112238",
     "exception": false,
     "start_time": "2023-04-10T14:27:39.402397",
     "status": "completed"
    },
    "tags": []
   },
   "outputs": [
    {
     "data": {
      "image/png": "[encoded data removed]",
      "text/plain": [
       "<Figure size 1500x500 with 1 Axes>"
      ]
     },
     "metadata": {},
     "output_type": "display_data"
    }
   ],
   "source": [
    "plt.figure(figsize=(15,5))\n",
    "plt.plot(range(model_history_fine_tuned.epoch[-1]+1),model_history_fine_tuned.history['val_f1'],label='val_f1')\n",
    "plt.plot(range(model_history_fine_tuned.epoch[-1]+1),model_history_fine_tuned.history['f1'],label='f1')\n",
    "plt.title('F1'); plt.xlabel('Epoch'); plt.ylabel('f1');plt.legend(); \n",
    "plt.show()"
   ]
  },
  {
   "cell_type": "code",
   "execution_count": 23,
   "id": "58acd6f7",
   "metadata": {
    "execution": {
     "iopub.execute_input": "2023-04-10T14:27:40.891211Z",
     "iopub.status.busy": "2023-04-10T14:27:40.890726Z",
     "iopub.status.idle": "2023-04-10T14:27:49.561608Z",
     "shell.execute_reply": "2023-04-10T14:27:49.559353Z"
    },
    "papermill": {
     "duration": 9.065272,
     "end_time": "2023-04-10T14:27:49.565820",
     "exception": false,
     "start_time": "2023-04-10T14:27:40.500548",
     "status": "completed"
    },
    "tags": []
   },
   "outputs": [],
   "source": [
    "# save in the HDF5 format\n",
    "model_history.save('model.h5', save_format='h5')"
   ]
  }
 ],
 "metadata": {
  "kernelspec": {
   "display_name": "Python 3",
   "language": "python",
   "name": "python3"
  },
  "language_info": {
   "codemirror_mode": {
    "name": "ipython",
    "version": 3
   },
   "file_extension": ".py",
   "mimetype": "text/x-python",
   "name": "python",
   "nbconvert_exporter": "python",
   "pygments_lexer": "ipython3",
   "version": "3.7.12"
  },
  "papermill": {
   "default_parameters": {},
   "duration": 6871.423322,
   "end_time": "2023-04-10T14:27:57.106923",
   "environment_variables": {},
   "exception": null,
   "input_path": "__notebook__.ipynb",
   "output_path": "__notebook__.ipynb",
   "parameters": {},
   "start_time": "2023-04-10T12:33:25.683601",
   "version": "2.4.0"
  },
  "widgets": {
   "application/vnd.jupyter.widget-state+json": {
    "state": {
     "0bcbd9a090914f2abada055cde1ab5a3": {
      "model_module": "@jupyter-widgets/controls",
      "model_module_version": "1.5.0",
      "model_name": "ProgressStyleModel",
      "state": {
       "_model_module": "@jupyter-widgets/controls",
       "_model_module_version": "1.5.0",
       "_model_name": "ProgressStyleModel",
       "_view_count": null,
       "_view_module": "@jupyter-widgets/base",
       "_view_module_version": "1.2.0",
       "_view_name": "StyleView",
       "bar_color": null,
       "description_width": ""
      }
     },
     "0f63a091e78242cbb987c4c55d1309b0": {
      "model_module": "@jupyter-widgets/controls",
      "model_module_version": "1.5.0",
      "model_name": "HTMLModel",
      "state": {
       "_dom_classes": [],
       "_model_module": "@jupyter-widgets/controls",
       "_model_module_version": "1.5.0",
       "_model_name": "HTMLModel",
       "_view_count": null,
       "_view_module": "@jupyter-widgets/controls",
       "_view_module_version": "1.5.0",
       "_view_name": "HTMLView",
       "description": "",
       "description_tooltip": null,
       "layout": "IPY_MODEL_d7726461c6cf493c91020d649151b711",
       "placeholder": "​",
       "style": "IPY_MODEL_39028d462bb14103ab7fa54953c070bc",
       "value": " 2.46M/2.46M [00:00&lt;00:00, 23.9MB/s]"
      }
     },
     "1308ab2b6be94875bab87c9216dd9c01": {
      "model_module": "@jupyter-widgets/base",
      "model_module_version": "1.2.0",
      "model_name": "LayoutModel",
      "state": {
       "_model_module": "@jupyter-widgets/base",
       "_model_module_version": "1.2.0",
       "_model_name": "LayoutModel",
       "_view_count": null,
       "_view_module": "@jupyter-widgets/base",
       "_view_module_version": "1.2.0",
       "_view_name": "LayoutView",
       "align_content": null,
       "align_items": null,
       "align_self": null,
       "border": null,
       "bottom": null,
       "display": null,
       "flex": null,
       "flex_flow": null,
       "grid_area": null,
       "grid_auto_columns": null,
       "grid_auto_flow": null,
       "grid_auto_rows": null,
       "grid_column": null,
       "grid_gap": null,
       "grid_row": null,
       "grid_template_areas": null,
       "grid_template_columns": null,
       "grid_template_rows": null,
       "height": null,
       "justify_content": null,
       "justify_items": null,
       "left": null,
       "margin": null,
       "max_height": null,
       "max_width": null,
       "min_height": null,
       "min_width": null,
       "object_fit": null,
       "object_position": null,
       "order": null,
       "overflow": null,
       "overflow_x": null,
       "overflow_y": null,
       "padding": null,
       "right": null,
       "top": null,
       "visibility": null,
       "width": null
      }
     },
     "1a5b514274724a0e83f43570660432df": {
      "model_module": "@jupyter-widgets/controls",
      "model_module_version": "1.5.0",
      "model_name": "ProgressStyleModel",
      "state": {
       "_model_module": "@jupyter-widgets/controls",
       "_model_module_version": "1.5.0",
       "_model_name": "ProgressStyleModel",
       "_view_count": null,
       "_view_module": "@jupyter-widgets/base",
       "_view_module_version": "1.2.0",
       "_view_name": "StyleView",
       "bar_color": null,
       "description_width": ""
      }
     },
     "1a78bc5a802b4e879675fcb9eab1e6a0": {
      "model_module": "@jupyter-widgets/base",
      "model_module_version": "1.2.0",
      "model_name": "LayoutModel",
      "state": {
       "_model_module": "@jupyter-widgets/base",
       "_model_module_version": "1.2.0",
       "_model_name": "LayoutModel",
       "_view_count": null,
       "_view_module": "@jupyter-widgets/base",
       "_view_module_version": "1.2.0",
       "_view_name": "LayoutView",
       "align_content": null,
       "align_items": null,
       "align_self": null,
       "border": null,
       "bottom": null,
       "display": null,
       "flex": null,
       "flex_flow": null,
       "grid_area": null,
       "grid_auto_columns": null,
       "grid_auto_flow": null,
       "grid_auto_rows": null,
       "grid_column": null,
       "grid_gap": null,
       "grid_row": null,
       "grid_template_areas": null,
       "grid_template_columns": null,
       "grid_template_rows": null,
       "height": null,
       "justify_content": null,
       "justify_items": null,
       "left": null,
       "margin": null,
       "max_height": null,
       "max_width": null,
       "min_height": null,
       "min_width": null,
       "object_fit": null,
       "object_position": null,
       "order": null,
       "overflow": null,
       "overflow_x": null,
       "overflow_y": null,
       "padding": null,
       "right": null,
       "top": null,
       "visibility": null,
       "width": null
      }
     },
     "20ed27af0e9f4ec990d5cb22c770074d": {
      "model_module": "@jupyter-widgets/controls",
      "model_module_version": "1.5.0",
      "model_name": "HBoxModel",
      "state": {
       "_dom_classes": [],
       "_model_module": "@jupyter-widgets/controls",
       "_model_module_version": "1.5.0",
       "_model_name": "HBoxModel",
       "_view_count": null,
       "_view_module": "@jupyter-widgets/controls",
       "_view_module_version": "1.5.0",
       "_view_name": "HBoxView",
       "box_style": "",
       "children": [
        "IPY_MODEL_e1cd3e8e0d6a4fd5bb9df26bc6b57c3a",
        "IPY_MODEL_4a769d8190cc4d2893f94edaf4066ec2",
        "IPY_MODEL_3ed152ac6a9845ed89f1b3a52cd2ca22"
       ],
       "layout": "IPY_MODEL_435f3bb5d04347ed89d365f81800aea8"
      }
     },
     "236b7056fe1a4466ac99c485e3320abd": {
      "model_module": "@jupyter-widgets/controls",
      "model_module_version": "1.5.0",
      "model_name": "DescriptionStyleModel",
      "state": {
       "_model_module": "@jupyter-widgets/controls",
       "_model_module_version": "1.5.0",
       "_model_name": "DescriptionStyleModel",
       "_view_count": null,
       "_view_module": "@jupyter-widgets/base",
       "_view_module_version": "1.2.0",
       "_view_name": "StyleView",
       "description_width": ""
      }
     },
     "28f0074c2a97477e84f509e1b824a3f9": {
      "model_module": "@jupyter-widgets/controls",
      "model_module_version": "1.5.0",
      "model_name": "DescriptionStyleModel",
      "state": {
       "_model_module": "@jupyter-widgets/controls",
       "_model_module_version": "1.5.0",
       "_model_name": "DescriptionStyleModel",
       "_view_count": null,
       "_view_module": "@jupyter-widgets/base",
       "_view_module_version": "1.2.0",
       "_view_name": "StyleView",
       "description_width": ""
      }
     },
     "2b096f93e8ab43c99a9b776675705af7": {
      "model_module": "@jupyter-widgets/controls",
      "model_module_version": "1.5.0",
      "model_name": "DescriptionStyleModel",
      "state": {
       "_model_module": "@jupyter-widgets/controls",
       "_model_module_version": "1.5.0",
       "_model_name": "DescriptionStyleModel",
       "_view_count": null,
       "_view_module": "@jupyter-widgets/base",
       "_view_module_version": "1.2.0",
       "_view_name": "StyleView",
       "description_width": ""
      }
     },
     "2b94fe987c0e409884888a5e0f3b5653": {
      "model_module": "@jupyter-widgets/controls",
      "model_module_version": "1.5.0",
      "model_name": "ProgressStyleModel",
      "state": {
       "_model_module": "@jupyter-widgets/controls",
       "_model_module_version": "1.5.0",
       "_model_name": "ProgressStyleModel",
       "_view_count": null,
       "_view_module": "@jupyter-widgets/base",
       "_view_module_version": "1.2.0",
       "_view_name": "StyleView",
       "bar_color": null,
       "description_width": ""
      }
     },
     "2bb9d594244b45b6ba33bb14f97ca73d": {
      "model_module": "@jupyter-widgets/controls",
      "model_module_version": "1.5.0",
      "model_name": "DescriptionStyleModel",
      "state": {
       "_model_module": "@jupyter-widgets/controls",
       "_model_module_version": "1.5.0",
       "_model_name": "DescriptionStyleModel",
       "_view_count": null,
       "_view_module": "@jupyter-widgets/base",
       "_view_module_version": "1.2.0",
       "_view_name": "StyleView",
       "description_width": ""
      }
     },
     "3108abdb47f74335a283faa717350439": {
      "model_module": "@jupyter-widgets/base",
      "model_module_version": "1.2.0",
      "model_name": "LayoutModel",
      "state": {
       "_model_module": "@jupyter-widgets/base",
       "_model_module_version": "1.2.0",
       "_model_name": "LayoutModel",
       "_view_count": null,
       "_view_module": "@jupyter-widgets/base",
       "_view_module_version": "1.2.0",
       "_view_name": "LayoutView",
       "align_content": null,
       "align_items": null,
       "align_self": null,
       "border": null,
       "bottom": null,
       "display": null,
       "flex": null,
       "flex_flow": null,
       "grid_area": null,
       "grid_auto_columns": null,
       "grid_auto_flow": null,
       "grid_auto_rows": null,
       "grid_column": null,
       "grid_gap": null,
       "grid_row": null,
       "grid_template_areas": null,
       "grid_template_columns": null,
       "grid_template_rows": null,
       "height": null,
       "justify_content": null,
       "justify_items": null,
       "left": null,
       "margin": null,
       "max_height": null,
       "max_width": null,
       "min_height": null,
       "min_width": null,
       "object_fit": null,
       "object_position": null,
       "order": null,
       "overflow": null,
       "overflow_x": null,
       "overflow_y": null,
       "padding": null,
       "right": null,
       "top": null,
       "visibility": null,
       "width": null
      }
     },
     "3592b09a83974e329390b164c8580bbb": {
      "model_module": "@jupyter-widgets/controls",
      "model_module_version": "1.5.0",
      "model_name": "DescriptionStyleModel",
      "state": {
       "_model_module": "@jupyter-widgets/controls",
       "_model_module_version": "1.5.0",
       "_model_name": "DescriptionStyleModel",
       "_view_count": null,
       "_view_module": "@jupyter-widgets/base",
       "_view_module_version": "1.2.0",
       "_view_name": "StyleView",
       "description_width": ""
      }
     },
     "39028d462bb14103ab7fa54953c070bc": {
      "model_module": "@jupyter-widgets/controls",
      "model_module_version": "1.5.0",
      "model_name": "DescriptionStyleModel",
      "state": {
       "_model_module": "@jupyter-widgets/controls",
       "_model_module_version": "1.5.0",
       "_model_name": "DescriptionStyleModel",
       "_view_count": null,
       "_view_module": "@jupyter-widgets/base",
       "_view_module_version": "1.2.0",
       "_view_name": "StyleView",
       "description_width": ""
      }
     },
     "3ed152ac6a9845ed89f1b3a52cd2ca22": {
      "model_module": "@jupyter-widgets/controls",
      "model_module_version": "1.5.0",
      "model_name": "HTMLModel",
      "state": {
       "_dom_classes": [],
       "_model_module": "@jupyter-widgets/controls",
       "_model_module_version": "1.5.0",
       "_model_name": "HTMLModel",
       "_view_count": null,
       "_view_module": "@jupyter-widgets/controls",
       "_view_module_version": "1.5.0",
       "_view_name": "HTMLView",
       "description": "",
       "description_tooltip": null,
       "layout": "IPY_MODEL_e18f1fa93ecc48f8af7883c32f850c8b",
       "placeholder": "​",
       "style": "IPY_MODEL_bb5520966d6444eea48c067ea37d9abd",
       "value": " 579/579 [00:00&lt;00:00, 33.0kB/s]"
      }
     },
     "3ed9881704be4ff3b6317ec78a7839e4": {
      "model_module": "@jupyter-widgets/controls",
      "model_module_version": "1.5.0",
      "model_name": "DescriptionStyleModel",
      "state": {
       "_model_module": "@jupyter-widgets/controls",
       "_model_module_version": "1.5.0",
       "_model_name": "DescriptionStyleModel",
       "_view_count": null,
       "_view_module": "@jupyter-widgets/base",
       "_view_module_version": "1.2.0",
       "_view_name": "StyleView",
       "description_width": ""
      }
     },
     "435f3bb5d04347ed89d365f81800aea8": {
      "model_module": "@jupyter-widgets/base",
      "model_module_version": "1.2.0",
      "model_name": "LayoutModel",
      "state": {
       "_model_module": "@jupyter-widgets/base",
       "_model_module_version": "1.2.0",
       "_model_name": "LayoutModel",
       "_view_count": null,
       "_view_module": "@jupyter-widgets/base",
       "_view_module_version": "1.2.0",
       "_view_name": "LayoutView",
       "align_content": null,
       "align_items": null,
       "align_self": null,
       "border": null,
       "bottom": null,
       "display": null,
       "flex": null,
       "flex_flow": null,
       "grid_area": null,
       "grid_auto_columns": null,
       "grid_auto_flow": null,
       "grid_auto_rows": null,
       "grid_column": null,
       "grid_gap": null,
       "grid_row": null,
       "grid_template_areas": null,
       "grid_template_columns": null,
       "grid_template_rows": null,
       "height": null,
       "justify_content": null,
       "justify_items": null,
       "left": null,
       "margin": null,
       "max_height": null,
       "max_width": null,
       "min_height": null,
       "min_width": null,
       "object_fit": null,
       "object_position": null,
       "order": null,
       "overflow": null,
       "overflow_x": null,
       "overflow_y": null,
       "padding": null,
       "right": null,
       "top": null,
       "visibility": null,
       "width": null
      }
     },
     "452928d02aa944cd974892af34faf6ab": {
      "model_module": "@jupyter-widgets/base",
      "model_module_version": "1.2.0",
      "model_name": "LayoutModel",
      "state": {
       "_model_module": "@jupyter-widgets/base",
       "_model_module_version": "1.2.0",
       "_model_name": "LayoutModel",
       "_view_count": null,
       "_view_module": "@jupyter-widgets/base",
       "_view_module_version": "1.2.0",
       "_view_name": "LayoutView",
       "align_content": null,
       "align_items": null,
       "align_self": null,
       "border": null,
       "bottom": null,
       "display": null,
       "flex": null,
       "flex_flow": null,
       "grid_area": null,
       "grid_auto_columns": null,
       "grid_auto_flow": null,
       "grid_auto_rows": null,
       "grid_column": null,
       "grid_gap": null,
       "grid_row": null,
       "grid_template_areas": null,
       "grid_template_columns": null,
       "grid_template_rows": null,
       "height": null,
       "justify_content": null,
       "justify_items": null,
       "left": null,
       "margin": null,
       "max_height": null,
       "max_width": null,
       "min_height": null,
       "min_width": null,
       "object_fit": null,
       "object_position": null,
       "order": null,
       "overflow": null,
       "overflow_x": null,
       "overflow_y": null,
       "padding": null,
       "right": null,
       "top": null,
       "visibility": null,
       "width": null
      }
     },
     "488716fc2b484ad7a8966a616da9b8a3": {
      "model_module": "@jupyter-widgets/controls",
      "model_module_version": "1.5.0",
      "model_name": "DescriptionStyleModel",
      "state": {
       "_model_module": "@jupyter-widgets/controls",
       "_model_module_version": "1.5.0",
       "_model_name": "DescriptionStyleModel",
       "_view_count": null,
       "_view_module": "@jupyter-widgets/base",
       "_view_module_version": "1.2.0",
       "_view_name": "StyleView",
       "description_width": ""
      }
     },
     "4a769d8190cc4d2893f94edaf4066ec2": {
      "model_module": "@jupyter-widgets/controls",
      "model_module_version": "1.5.0",
      "model_name": "FloatProgressModel",
      "state": {
       "_dom_classes": [],
       "_model_module": "@jupyter-widgets/controls",
       "_model_module_version": "1.5.0",
       "_model_name": "FloatProgressModel",
       "_view_count": null,
       "_view_module": "@jupyter-widgets/controls",
       "_view_module_version": "1.5.0",
       "_view_name": "ProgressView",
       "bar_style": "success",
       "description": "",
       "description_tooltip": null,
       "layout": "IPY_MODEL_f3f3bb5435fc49c7842d910586324d8f",
       "max": 579.0,
       "min": 0.0,
       "orientation": "horizontal",
       "style": "IPY_MODEL_d2d8b0bb3d804a7898895169b51d605a",
       "value": 579.0
      }
     },
     "5161026cf7334e1eb961c5134c17ef94": {
      "model_module": "@jupyter-widgets/controls",
      "model_module_version": "1.5.0",
      "model_name": "HBoxModel",
      "state": {
       "_dom_classes": [],
       "_model_module": "@jupyter-widgets/controls",
       "_model_module_version": "1.5.0",
       "_model_name": "HBoxModel",
       "_view_count": null,
       "_view_module": "@jupyter-widgets/controls",
       "_view_module_version": "1.5.0",
       "_view_name": "HBoxView",
       "box_style": "",
       "children": [
        "IPY_MODEL_9ca06844b5df4585ab321a96a43819f0",
        "IPY_MODEL_80762690c32a4abeae864ba3af5ed737",
        "IPY_MODEL_0f63a091e78242cbb987c4c55d1309b0"
       ],
       "layout": "IPY_MODEL_c4682e736a5940e085f1f04cc83254a5"
      }
     },
     "5a954313cfce475f940ac86e0d02fcf7": {
      "model_module": "@jupyter-widgets/controls",
      "model_module_version": "1.5.0",
      "model_name": "ProgressStyleModel",
      "state": {
       "_model_module": "@jupyter-widgets/controls",
       "_model_module_version": "1.5.0",
       "_model_name": "ProgressStyleModel",
       "_view_count": null,
       "_view_module": "@jupyter-widgets/base",
       "_view_module_version": "1.2.0",
       "_view_name": "StyleView",
       "bar_color": null,
       "description_width": ""
      }
     },
     "60fce0a22bbe49f2a9e0ad46e9c12d40": {
      "model_module": "@jupyter-widgets/base",
      "model_module_version": "1.2.0",
      "model_name": "LayoutModel",
      "state": {
       "_model_module": "@jupyter-widgets/base",
       "_model_module_version": "1.2.0",
       "_model_name": "LayoutModel",
       "_view_count": null,
       "_view_module": "@jupyter-widgets/base",
       "_view_module_version": "1.2.0",
       "_view_name": "LayoutView",
       "align_content": null,
       "align_items": null,
       "align_self": null,
       "border": null,
       "bottom": null,
       "display": null,
       "flex": null,
       "flex_flow": null,
       "grid_area": null,
       "grid_auto_columns": null,
       "grid_auto_flow": null,
       "grid_auto_rows": null,
       "grid_column": null,
       "grid_gap": null,
       "grid_row": null,
       "grid_template_areas": null,
       "grid_template_columns": null,
       "grid_template_rows": null,
       "height": null,
       "justify_content": null,
       "justify_items": null,
       "left": null,
       "margin": null,
       "max_height": null,
       "max_width": null,
       "min_height": null,
       "min_width": null,
       "object_fit": null,
       "object_position": null,
       "order": null,
       "overflow": null,
       "overflow_x": null,
       "overflow_y": null,
       "padding": null,
       "right": null,
       "top": null,
       "visibility": null,
       "width": null
      }
     },
     "6124fb91b61b405888087ffb340cfd7c": {
      "model_module": "@jupyter-widgets/base",
      "model_module_version": "1.2.0",
      "model_name": "LayoutModel",
      "state": {
       "_model_module": "@jupyter-widgets/base",
       "_model_module_version": "1.2.0",
       "_model_name": "LayoutModel",
       "_view_count": null,
       "_view_module": "@jupyter-widgets/base",
       "_view_module_version": "1.2.0",
       "_view_name": "LayoutView",
       "align_content": null,
       "align_items": null,
       "align_self": null,
       "border": null,
       "bottom": null,
       "display": null,
       "flex": null,
       "flex_flow": null,
       "grid_area": null,
       "grid_auto_columns": null,
       "grid_auto_flow": null,
       "grid_auto_rows": null,
       "grid_column": null,
       "grid_gap": null,
       "grid_row": null,
       "grid_template_areas": null,
       "grid_template_columns": null,
       "grid_template_rows": null,
       "height": null,
       "justify_content": null,
       "justify_items": null,
       "left": null,
       "margin": null,
       "max_height": null,
       "max_width": null,
       "min_height": null,
       "min_width": null,
       "object_fit": null,
       "object_position": null,
       "order": null,
       "overflow": null,
       "overflow_x": null,
       "overflow_y": null,
       "padding": null,
       "right": null,
       "top": null,
       "visibility": null,
       "width": null
      }
     },
     "6814a312b6364ae68e07bc79526d7f1d": {
      "model_module": "@jupyter-widgets/controls",
      "model_module_version": "1.5.0",
      "model_name": "HTMLModel",
      "state": {
       "_dom_classes": [],
       "_model_module": "@jupyter-widgets/controls",
       "_model_module_version": "1.5.0",
       "_model_name": "HTMLModel",
       "_view_count": null,
       "_view_module": "@jupyter-widgets/controls",
       "_view_module_version": "1.5.0",
       "_view_name": "HTMLView",
       "description": "",
       "description_tooltip": null,
       "layout": "IPY_MODEL_6124fb91b61b405888087ffb340cfd7c",
       "placeholder": "​",
       "style": "IPY_MODEL_28f0074c2a97477e84f509e1b824a3f9",
       "value": " 14300/14300 [00:01&lt;00:00, 14292.57it/s]"
      }
     },
     "68777b106b704c6cb7e7fd589a96b0d6": {
      "model_module": "@jupyter-widgets/controls",
      "model_module_version": "1.5.0",
      "model_name": "DescriptionStyleModel",
      "state": {
       "_model_module": "@jupyter-widgets/controls",
       "_model_module_version": "1.5.0",
       "_model_name": "DescriptionStyleModel",
       "_view_count": null,
       "_view_module": "@jupyter-widgets/base",
       "_view_module_version": "1.2.0",
       "_view_name": "StyleView",
       "description_width": ""
      }
     },
     "6a8e2211cc6946c991f4a5500cfc75f5": {
      "model_module": "@jupyter-widgets/controls",
      "model_module_version": "1.5.0",
      "model_name": "FloatProgressModel",
      "state": {
       "_dom_classes": [],
       "_model_module": "@jupyter-widgets/controls",
       "_model_module_version": "1.5.0",
       "_model_name": "FloatProgressModel",
       "_view_count": null,
       "_view_module": "@jupyter-widgets/controls",
       "_view_module_version": "1.5.0",
       "_view_name": "ProgressView",
       "bar_style": "success",
       "description": "",
       "description_tooltip": null,
       "layout": "IPY_MODEL_efab63dcd30e414ca4c4c3516321a529",
       "max": 52.0,
       "min": 0.0,
       "orientation": "horizontal",
       "style": "IPY_MODEL_5a954313cfce475f940ac86e0d02fcf7",
       "value": 52.0
      }
     },
     "6b8d34d11e754b8daa3c12ef1c4fc4a6": {
      "model_module": "@jupyter-widgets/controls",
      "model_module_version": "1.5.0",
      "model_name": "FloatProgressModel",
      "state": {
       "_dom_classes": [],
       "_model_module": "@jupyter-widgets/controls",
       "_model_module_version": "1.5.0",
       "_model_name": "FloatProgressModel",
       "_view_count": null,
       "_view_module": "@jupyter-widgets/controls",
       "_view_module_version": "1.5.0",
       "_view_name": "ProgressView",
       "bar_style": "success",
       "description": "",
       "description_tooltip": null,
       "layout": "IPY_MODEL_6c6292a0a7f0459cba7a7921940fc6c9",
       "max": 14300.0,
       "min": 0.0,
       "orientation": "horizontal",
       "style": "IPY_MODEL_2b94fe987c0e409884888a5e0f3b5653",
       "value": 14300.0
      }
     },
     "6c6292a0a7f0459cba7a7921940fc6c9": {
      "model_module": "@jupyter-widgets/base",
      "model_module_version": "1.2.0",
      "model_name": "LayoutModel",
      "state": {
       "_model_module": "@jupyter-widgets/base",
       "_model_module_version": "1.2.0",
       "_model_name": "LayoutModel",
       "_view_count": null,
       "_view_module": "@jupyter-widgets/base",
       "_view_module_version": "1.2.0",
       "_view_name": "LayoutView",
       "align_content": null,
       "align_items": null,
       "align_self": null,
       "border": null,
       "bottom": null,
       "display": null,
       "flex": null,
       "flex_flow": null,
       "grid_area": null,
       "grid_auto_columns": null,
       "grid_auto_flow": null,
       "grid_auto_rows": null,
       "grid_column": null,
       "grid_gap": null,
       "grid_row": null,
       "grid_template_areas": null,
       "grid_template_columns": null,
       "grid_template_rows": null,
       "height": null,
       "justify_content": null,
       "justify_items": null,
       "left": null,
       "margin": null,
       "max_height": null,
       "max_width": null,
       "min_height": null,
       "min_width": null,
       "object_fit": null,
       "object_position": null,
       "order": null,
       "overflow": null,
       "overflow_x": null,
       "overflow_y": null,
       "padding": null,
       "right": null,
       "top": null,
       "visibility": null,
       "width": null
      }
     },
     "6cc1895574404a2484a35056e3d728cc": {
      "model_module": "@jupyter-widgets/base",
      "model_module_version": "1.2.0",
      "model_name": "LayoutModel",
      "state": {
       "_model_module": "@jupyter-widgets/base",
       "_model_module_version": "1.2.0",
       "_model_name": "LayoutModel",
       "_view_count": null,
       "_view_module": "@jupyter-widgets/base",
       "_view_module_version": "1.2.0",
       "_view_name": "LayoutView",
       "align_content": null,
       "align_items": null,
       "align_self": null,
       "border": null,
       "bottom": null,
       "display": null,
       "flex": null,
       "flex_flow": null,
       "grid_area": null,
       "grid_auto_columns": null,
       "grid_auto_flow": null,
       "grid_auto_rows": null,
       "grid_column": null,
       "grid_gap": null,
       "grid_row": null,
       "grid_template_areas": null,
       "grid_template_columns": null,
       "grid_template_rows": null,
       "height": null,
       "justify_content": null,
       "justify_items": null,
       "left": null,
       "margin": null,
       "max_height": null,
       "max_width": null,
       "min_height": null,
       "min_width": null,
       "object_fit": null,
       "object_position": null,
       "order": null,
       "overflow": null,
       "overflow_x": null,
       "overflow_y": null,
       "padding": null,
       "right": null,
       "top": null,
       "visibility": null,
       "width": null
      }
     },
     "71d20e281e0e448ba875ea6ffef7e2bd": {
      "model_module": "@jupyter-widgets/base",
      "model_module_version": "1.2.0",
      "model_name": "LayoutModel",
      "state": {
       "_model_module": "@jupyter-widgets/base",
       "_model_module_version": "1.2.0",
       "_model_name": "LayoutModel",
       "_view_count": null,
       "_view_module": "@jupyter-widgets/base",
       "_view_module_version": "1.2.0",
       "_view_name": "LayoutView",
       "align_content": null,
       "align_items": null,
       "align_self": null,
       "border": null,
       "bottom": null,
       "display": null,
       "flex": null,
       "flex_flow": null,
       "grid_area": null,
       "grid_auto_columns": null,
       "grid_auto_flow": null,
       "grid_auto_rows": null,
       "grid_column": null,
       "grid_gap": null,
       "grid_row": null,
       "grid_template_areas": null,
       "grid_template_columns": null,
       "grid_template_rows": null,
       "height": null,
       "justify_content": null,
       "justify_items": null,
       "left": null,
       "margin": null,
       "max_height": null,
       "max_width": null,
       "min_height": null,
       "min_width": null,
       "object_fit": null,
       "object_position": null,
       "order": null,
       "overflow": null,
       "overflow_x": null,
       "overflow_y": null,
       "padding": null,
       "right": null,
       "top": null,
       "visibility": null,
       "width": null
      }
     },
     "752a837439e14216a5499d3ec992a025": {
      "model_module": "@jupyter-widgets/controls",
      "model_module_version": "1.5.0",
      "model_name": "HBoxModel",
      "state": {
       "_dom_classes": [],
       "_model_module": "@jupyter-widgets/controls",
       "_model_module_version": "1.5.0",
       "_model_name": "HBoxModel",
       "_view_count": null,
       "_view_module": "@jupyter-widgets/controls",
       "_view_module_version": "1.5.0",
       "_view_name": "HBoxView",
       "box_style": "",
       "children": [
        "IPY_MODEL_e855a5c005df4b76a2ac4a75d1fadf63",
        "IPY_MODEL_6a8e2211cc6946c991f4a5500cfc75f5",
        "IPY_MODEL_8b87ae797a1340c2b71d16b1c959b386"
       ],
       "layout": "IPY_MODEL_452928d02aa944cd974892af34faf6ab"
      }
     },
     "80762690c32a4abeae864ba3af5ed737": {
      "model_module": "@jupyter-widgets/controls",
      "model_module_version": "1.5.0",
      "model_name": "FloatProgressModel",
      "state": {
       "_dom_classes": [],
       "_model_module": "@jupyter-widgets/controls",
       "_model_module_version": "1.5.0",
       "_model_name": "FloatProgressModel",
       "_view_count": null,
       "_view_module": "@jupyter-widgets/controls",
       "_view_module_version": "1.5.0",
       "_view_name": "ProgressView",
       "bar_style": "success",
       "description": "",
       "description_tooltip": null,
       "layout": "IPY_MODEL_71d20e281e0e448ba875ea6ffef7e2bd",
       "max": 2464616.0,
       "min": 0.0,
       "orientation": "horizontal",
       "style": "IPY_MODEL_0bcbd9a090914f2abada055cde1ab5a3",
       "value": 2464616.0
      }
     },
     "87cd13018a634ccca45a09a5a21c7068": {
      "model_module": "@jupyter-widgets/controls",
      "model_module_version": "1.5.0",
      "model_name": "HBoxModel",
      "state": {
       "_dom_classes": [],
       "_model_module": "@jupyter-widgets/controls",
       "_model_module_version": "1.5.0",
       "_model_name": "HBoxModel",
       "_view_count": null,
       "_view_module": "@jupyter-widgets/controls",
       "_view_module_version": "1.5.0",
       "_view_name": "HBoxView",
       "box_style": "",
       "children": [
        "IPY_MODEL_bd35b872d93544fca28d7465546f8459",
        "IPY_MODEL_94b669ce890e44bdabc5a0347f08042c",
        "IPY_MODEL_af7ef6980b2d413aa2245360908dd2bf"
       ],
       "layout": "IPY_MODEL_1a78bc5a802b4e879675fcb9eab1e6a0"
      }
     },
     "8b87ae797a1340c2b71d16b1c959b386": {
      "model_module": "@jupyter-widgets/controls",
      "model_module_version": "1.5.0",
      "model_name": "HTMLModel",
      "state": {
       "_dom_classes": [],
       "_model_module": "@jupyter-widgets/controls",
       "_model_module_version": "1.5.0",
       "_model_name": "HTMLModel",
       "_view_count": null,
       "_view_module": "@jupyter-widgets/controls",
       "_view_module_version": "1.5.0",
       "_view_name": "HTMLView",
       "description": "",
       "description_tooltip": null,
       "layout": "IPY_MODEL_1308ab2b6be94875bab87c9216dd9c01",
       "placeholder": "​",
       "style": "IPY_MODEL_3ed9881704be4ff3b6317ec78a7839e4",
       "value": " 52.0/52.0 [00:00&lt;00:00, 2.17kB/s]"
      }
     },
     "8d57b4ac6dfe46949bb03ad52d31e74d": {
      "model_module": "@jupyter-widgets/base",
      "model_module_version": "1.2.0",
      "model_name": "LayoutModel",
      "state": {
       "_model_module": "@jupyter-widgets/base",
       "_model_module_version": "1.2.0",
       "_model_name": "LayoutModel",
       "_view_count": null,
       "_view_module": "@jupyter-widgets/base",
       "_view_module_version": "1.2.0",
       "_view_name": "LayoutView",
       "align_content": null,
       "align_items": null,
       "align_self": null,
       "border": null,
       "bottom": null,
       "display": null,
       "flex": null,
       "flex_flow": null,
       "grid_area": null,
       "grid_auto_columns": null,
       "grid_auto_flow": null,
       "grid_auto_rows": null,
       "grid_column": null,
       "grid_gap": null,
       "grid_row": null,
       "grid_template_areas": null,
       "grid_template_columns": null,
       "grid_template_rows": null,
       "height": null,
       "justify_content": null,
       "justify_items": null,
       "left": null,
       "margin": null,
       "max_height": null,
       "max_width": null,
       "min_height": null,
       "min_width": null,
       "object_fit": null,
       "object_position": null,
       "order": null,
       "overflow": null,
       "overflow_x": null,
       "overflow_y": null,
       "padding": null,
       "right": null,
       "top": null,
       "visibility": null,
       "width": null
      }
     },
     "8d95396e50e7468ea365436cd7814d0e": {
      "model_module": "@jupyter-widgets/controls",
      "model_module_version": "1.5.0",
      "model_name": "HBoxModel",
      "state": {
       "_dom_classes": [],
       "_model_module": "@jupyter-widgets/controls",
       "_model_module_version": "1.5.0",
       "_model_name": "HBoxModel",
       "_view_count": null,
       "_view_module": "@jupyter-widgets/controls",
       "_view_module_version": "1.5.0",
       "_view_name": "HBoxView",
       "box_style": "",
       "children": [
        "IPY_MODEL_cc9db68b2185427cae2a9c32c52eb532",
        "IPY_MODEL_6b8d34d11e754b8daa3c12ef1c4fc4a6",
        "IPY_MODEL_6814a312b6364ae68e07bc79526d7f1d"
       ],
       "layout": "IPY_MODEL_8d57b4ac6dfe46949bb03ad52d31e74d"
      }
     },
     "94b669ce890e44bdabc5a0347f08042c": {
      "model_module": "@jupyter-widgets/controls",
      "model_module_version": "1.5.0",
      "model_name": "FloatProgressModel",
      "state": {
       "_dom_classes": [],
       "_model_module": "@jupyter-widgets/controls",
       "_model_module_version": "1.5.0",
       "_model_name": "FloatProgressModel",
       "_view_count": null,
       "_view_module": "@jupyter-widgets/controls",
       "_view_module_version": "1.5.0",
       "_view_name": "ProgressView",
       "bar_style": "success",
       "description": "",
       "description_tooltip": null,
       "layout": "IPY_MODEL_3108abdb47f74335a283faa717350439",
       "max": 14300.0,
       "min": 0.0,
       "orientation": "horizontal",
       "style": "IPY_MODEL_1a5b514274724a0e83f43570660432df",
       "value": 14300.0
      }
     },
     "9ca06844b5df4585ab321a96a43819f0": {
      "model_module": "@jupyter-widgets/controls",
      "model_module_version": "1.5.0",
      "model_name": "HTMLModel",
      "state": {
       "_dom_classes": [],
       "_model_module": "@jupyter-widgets/controls",
       "_model_module_version": "1.5.0",
       "_model_name": "HTMLModel",
       "_view_count": null,
       "_view_module": "@jupyter-widgets/controls",
       "_view_module_version": "1.5.0",
       "_view_name": "HTMLView",
       "description": "",
       "description_tooltip": null,
       "layout": "IPY_MODEL_c71ad83513234a25ba23262b8e896f8e",
       "placeholder": "​",
       "style": "IPY_MODEL_2b096f93e8ab43c99a9b776675705af7",
       "value": "Downloading spm.model: 100%"
      }
     },
     "a1211c7ab33f4847b5830e0947e02814": {
      "model_module": "@jupyter-widgets/base",
      "model_module_version": "1.2.0",
      "model_name": "LayoutModel",
      "state": {
       "_model_module": "@jupyter-widgets/base",
       "_model_module_version": "1.2.0",
       "_model_name": "LayoutModel",
       "_view_count": null,
       "_view_module": "@jupyter-widgets/base",
       "_view_module_version": "1.2.0",
       "_view_name": "LayoutView",
       "align_content": null,
       "align_items": null,
       "align_self": null,
       "border": null,
       "bottom": null,
       "display": null,
       "flex": null,
       "flex_flow": null,
       "grid_area": null,
       "grid_auto_columns": null,
       "grid_auto_flow": null,
       "grid_auto_rows": null,
       "grid_column": null,
       "grid_gap": null,
       "grid_row": null,
       "grid_template_areas": null,
       "grid_template_columns": null,
       "grid_template_rows": null,
       "height": null,
       "justify_content": null,
       "justify_items": null,
       "left": null,
       "margin": null,
       "max_height": null,
       "max_width": null,
       "min_height": null,
       "min_width": null,
       "object_fit": null,
       "object_position": null,
       "order": null,
       "overflow": null,
       "overflow_x": null,
       "overflow_y": null,
       "padding": null,
       "right": null,
       "top": null,
       "visibility": null,
       "width": null
      }
     },
     "af7ef6980b2d413aa2245360908dd2bf": {
      "model_module": "@jupyter-widgets/controls",
      "model_module_version": "1.5.0",
      "model_name": "HTMLModel",
      "state": {
       "_dom_classes": [],
       "_model_module": "@jupyter-widgets/controls",
       "_model_module_version": "1.5.0",
       "_model_name": "HTMLModel",
       "_view_count": null,
       "_view_module": "@jupyter-widgets/controls",
       "_view_module_version": "1.5.0",
       "_view_name": "HTMLView",
       "description": "",
       "description_tooltip": null,
       "layout": "IPY_MODEL_f67074c534dd4bfb8e90520f5c0f2ecd",
       "placeholder": "​",
       "style": "IPY_MODEL_3592b09a83974e329390b164c8580bbb",
       "value": " 14300/14300 [00:06&lt;00:00, 2080.57it/s]"
      }
     },
     "bb5520966d6444eea48c067ea37d9abd": {
      "model_module": "@jupyter-widgets/controls",
      "model_module_version": "1.5.0",
      "model_name": "DescriptionStyleModel",
      "state": {
       "_model_module": "@jupyter-widgets/controls",
       "_model_module_version": "1.5.0",
       "_model_name": "DescriptionStyleModel",
       "_view_count": null,
       "_view_module": "@jupyter-widgets/base",
       "_view_module_version": "1.2.0",
       "_view_name": "StyleView",
       "description_width": ""
      }
     },
     "bd35b872d93544fca28d7465546f8459": {
      "model_module": "@jupyter-widgets/controls",
      "model_module_version": "1.5.0",
      "model_name": "HTMLModel",
      "state": {
       "_dom_classes": [],
       "_model_module": "@jupyter-widgets/controls",
       "_model_module_version": "1.5.0",
       "_model_name": "HTMLModel",
       "_view_count": null,
       "_view_module": "@jupyter-widgets/controls",
       "_view_module_version": "1.5.0",
       "_view_name": "HTMLView",
       "description": "",
       "description_tooltip": null,
       "layout": "IPY_MODEL_6cc1895574404a2484a35056e3d728cc",
       "placeholder": "​",
       "style": "IPY_MODEL_236b7056fe1a4466ac99c485e3320abd",
       "value": "100%"
      }
     },
     "c4682e736a5940e085f1f04cc83254a5": {
      "model_module": "@jupyter-widgets/base",
      "model_module_version": "1.2.0",
      "model_name": "LayoutModel",
      "state": {
       "_model_module": "@jupyter-widgets/base",
       "_model_module_version": "1.2.0",
       "_model_name": "LayoutModel",
       "_view_count": null,
       "_view_module": "@jupyter-widgets/base",
       "_view_module_version": "1.2.0",
       "_view_name": "LayoutView",
       "align_content": null,
       "align_items": null,
       "align_self": null,
       "border": null,
       "bottom": null,
       "display": null,
       "flex": null,
       "flex_flow": null,
       "grid_area": null,
       "grid_auto_columns": null,
       "grid_auto_flow": null,
       "grid_auto_rows": null,
       "grid_column": null,
       "grid_gap": null,
       "grid_row": null,
       "grid_template_areas": null,
       "grid_template_columns": null,
       "grid_template_rows": null,
       "height": null,
       "justify_content": null,
       "justify_items": null,
       "left": null,
       "margin": null,
       "max_height": null,
       "max_width": null,
       "min_height": null,
       "min_width": null,
       "object_fit": null,
       "object_position": null,
       "order": null,
       "overflow": null,
       "overflow_x": null,
       "overflow_y": null,
       "padding": null,
       "right": null,
       "top": null,
       "visibility": null,
       "width": null
      }
     },
     "c71ad83513234a25ba23262b8e896f8e": {
      "model_module": "@jupyter-widgets/base",
      "model_module_version": "1.2.0",
      "model_name": "LayoutModel",
      "state": {
       "_model_module": "@jupyter-widgets/base",
       "_model_module_version": "1.2.0",
       "_model_name": "LayoutModel",
       "_view_count": null,
       "_view_module": "@jupyter-widgets/base",
       "_view_module_version": "1.2.0",
       "_view_name": "LayoutView",
       "align_content": null,
       "align_items": null,
       "align_self": null,
       "border": null,
       "bottom": null,
       "display": null,
       "flex": null,
       "flex_flow": null,
       "grid_area": null,
       "grid_auto_columns": null,
       "grid_auto_flow": null,
       "grid_auto_rows": null,
       "grid_column": null,
       "grid_gap": null,
       "grid_row": null,
       "grid_template_areas": null,
       "grid_template_columns": null,
       "grid_template_rows": null,
       "height": null,
       "justify_content": null,
       "justify_items": null,
       "left": null,
       "margin": null,
       "max_height": null,
       "max_width": null,
       "min_height": null,
       "min_width": null,
       "object_fit": null,
       "object_position": null,
       "order": null,
       "overflow": null,
       "overflow_x": null,
       "overflow_y": null,
       "padding": null,
       "right": null,
       "top": null,
       "visibility": null,
       "width": null
      }
     },
     "cc9db68b2185427cae2a9c32c52eb532": {
      "model_module": "@jupyter-widgets/controls",
      "model_module_version": "1.5.0",
      "model_name": "HTMLModel",
      "state": {
       "_dom_classes": [],
       "_model_module": "@jupyter-widgets/controls",
       "_model_module_version": "1.5.0",
       "_model_name": "HTMLModel",
       "_view_count": null,
       "_view_module": "@jupyter-widgets/controls",
       "_view_module_version": "1.5.0",
       "_view_name": "HTMLView",
       "description": "",
       "description_tooltip": null,
       "layout": "IPY_MODEL_a1211c7ab33f4847b5830e0947e02814",
       "placeholder": "​",
       "style": "IPY_MODEL_68777b106b704c6cb7e7fd589a96b0d6",
       "value": "100%"
      }
     },
     "d2d8b0bb3d804a7898895169b51d605a": {
      "model_module": "@jupyter-widgets/controls",
      "model_module_version": "1.5.0",
      "model_name": "ProgressStyleModel",
      "state": {
       "_model_module": "@jupyter-widgets/controls",
       "_model_module_version": "1.5.0",
       "_model_name": "ProgressStyleModel",
       "_view_count": null,
       "_view_module": "@jupyter-widgets/base",
       "_view_module_version": "1.2.0",
       "_view_name": "StyleView",
       "bar_color": null,
       "description_width": ""
      }
     },
     "d7726461c6cf493c91020d649151b711": {
      "model_module": "@jupyter-widgets/base",
      "model_module_version": "1.2.0",
      "model_name": "LayoutModel",
      "state": {
       "_model_module": "@jupyter-widgets/base",
       "_model_module_version": "1.2.0",
       "_model_name": "LayoutModel",
       "_view_count": null,
       "_view_module": "@jupyter-widgets/base",
       "_view_module_version": "1.2.0",
       "_view_name": "LayoutView",
       "align_content": null,
       "align_items": null,
       "align_self": null,
       "border": null,
       "bottom": null,
       "display": null,
       "flex": null,
       "flex_flow": null,
       "grid_area": null,
       "grid_auto_columns": null,
       "grid_auto_flow": null,
       "grid_auto_rows": null,
       "grid_column": null,
       "grid_gap": null,
       "grid_row": null,
       "grid_template_areas": null,
       "grid_template_columns": null,
       "grid_template_rows": null,
       "height": null,
       "justify_content": null,
       "justify_items": null,
       "left": null,
       "margin": null,
       "max_height": null,
       "max_width": null,
       "min_height": null,
       "min_width": null,
       "object_fit": null,
       "object_position": null,
       "order": null,
       "overflow": null,
       "overflow_x": null,
       "overflow_y": null,
       "padding": null,
       "right": null,
       "top": null,
       "visibility": null,
       "width": null
      }
     },
     "dd9c1e901418480e9c9bd9836e5e012d": {
      "model_module": "@jupyter-widgets/base",
      "model_module_version": "1.2.0",
      "model_name": "LayoutModel",
      "state": {
       "_model_module": "@jupyter-widgets/base",
       "_model_module_version": "1.2.0",
       "_model_name": "LayoutModel",
       "_view_count": null,
       "_view_module": "@jupyter-widgets/base",
       "_view_module_version": "1.2.0",
       "_view_name": "LayoutView",
       "align_content": null,
       "align_items": null,
       "align_self": null,
       "border": null,
       "bottom": null,
       "display": null,
       "flex": null,
       "flex_flow": null,
       "grid_area": null,
       "grid_auto_columns": null,
       "grid_auto_flow": null,
       "grid_auto_rows": null,
       "grid_column": null,
       "grid_gap": null,
       "grid_row": null,
       "grid_template_areas": null,
       "grid_template_columns": null,
       "grid_template_rows": null,
       "height": null,
       "justify_content": null,
       "justify_items": null,
       "left": null,
       "margin": null,
       "max_height": null,
       "max_width": null,
       "min_height": null,
       "min_width": null,
       "object_fit": null,
       "object_position": null,
       "order": null,
       "overflow": null,
       "overflow_x": null,
       "overflow_y": null,
       "padding": null,
       "right": null,
       "top": null,
       "visibility": null,
       "width": null
      }
     },
     "e18f1fa93ecc48f8af7883c32f850c8b": {
      "model_module": "@jupyter-widgets/base",
      "model_module_version": "1.2.0",
      "model_name": "LayoutModel",
      "state": {
       "_model_module": "@jupyter-widgets/base",
       "_model_module_version": "1.2.0",
       "_model_name": "LayoutModel",
       "_view_count": null,
       "_view_module": "@jupyter-widgets/base",
       "_view_module_version": "1.2.0",
       "_view_name": "LayoutView",
       "align_content": null,
       "align_items": null,
       "align_self": null,
       "border": null,
       "bottom": null,
       "display": null,
       "flex": null,
       "flex_flow": null,
       "grid_area": null,
       "grid_auto_columns": null,
       "grid_auto_flow": null,
       "grid_auto_rows": null,
       "grid_column": null,
       "grid_gap": null,
       "grid_row": null,
       "grid_template_areas": null,
       "grid_template_columns": null,
       "grid_template_rows": null,
       "height": null,
       "justify_content": null,
       "justify_items": null,
       "left": null,
       "margin": null,
       "max_height": null,
       "max_width": null,
       "min_height": null,
       "min_width": null,
       "object_fit": null,
       "object_position": null,
       "order": null,
       "overflow": null,
       "overflow_x": null,
       "overflow_y": null,
       "padding": null,
       "right": null,
       "top": null,
       "visibility": null,
       "width": null
      }
     },
     "e1cd3e8e0d6a4fd5bb9df26bc6b57c3a": {
      "model_module": "@jupyter-widgets/controls",
      "model_module_version": "1.5.0",
      "model_name": "HTMLModel",
      "state": {
       "_dom_classes": [],
       "_model_module": "@jupyter-widgets/controls",
       "_model_module_version": "1.5.0",
       "_model_name": "HTMLModel",
       "_view_count": null,
       "_view_module": "@jupyter-widgets/controls",
       "_view_module_version": "1.5.0",
       "_view_name": "HTMLView",
       "description": "",
       "description_tooltip": null,
       "layout": "IPY_MODEL_60fce0a22bbe49f2a9e0ad46e9c12d40",
       "placeholder": "​",
       "style": "IPY_MODEL_2bb9d594244b45b6ba33bb14f97ca73d",
       "value": "Downloading (…)lve/main/config.json: 100%"
      }
     },
     "e855a5c005df4b76a2ac4a75d1fadf63": {
      "model_module": "@jupyter-widgets/controls",
      "model_module_version": "1.5.0",
      "model_name": "HTMLModel",
      "state": {
       "_dom_classes": [],
       "_model_module": "@jupyter-widgets/controls",
       "_model_module_version": "1.5.0",
       "_model_name": "HTMLModel",
       "_view_count": null,
       "_view_module": "@jupyter-widgets/controls",
       "_view_module_version": "1.5.0",
       "_view_name": "HTMLView",
       "description": "",
       "description_tooltip": null,
       "layout": "IPY_MODEL_dd9c1e901418480e9c9bd9836e5e012d",
       "placeholder": "​",
       "style": "IPY_MODEL_488716fc2b484ad7a8966a616da9b8a3",
       "value": "Downloading (…)okenizer_config.json: 100%"
      }
     },
     "efab63dcd30e414ca4c4c3516321a529": {
      "model_module": "@jupyter-widgets/base",
      "model_module_version": "1.2.0",
      "model_name": "LayoutModel",
      "state": {
       "_model_module": "@jupyter-widgets/base",
       "_model_module_version": "1.2.0",
       "_model_name": "LayoutModel",
       "_view_count": null,
       "_view_module": "@jupyter-widgets/base",
       "_view_module_version": "1.2.0",
       "_view_name": "LayoutView",
       "align_content": null,
       "align_items": null,
       "align_self": null,
       "border": null,
       "bottom": null,
       "display": null,
       "flex": null,
       "flex_flow": null,
       "grid_area": null,
       "grid_auto_columns": null,
       "grid_auto_flow": null,
       "grid_auto_rows": null,
       "grid_column": null,
       "grid_gap": null,
       "grid_row": null,
       "grid_template_areas": null,
       "grid_template_columns": null,
       "grid_template_rows": null,
       "height": null,
       "justify_content": null,
       "justify_items": null,
       "left": null,
       "margin": null,
       "max_height": null,
       "max_width": null,
       "min_height": null,
       "min_width": null,
       "object_fit": null,
       "object_position": null,
       "order": null,
       "overflow": null,
       "overflow_x": null,
       "overflow_y": null,
       "padding": null,
       "right": null,
       "top": null,
       "visibility": null,
       "width": null
      }
     },
     "f3f3bb5435fc49c7842d910586324d8f": {
      "model_module": "@jupyter-widgets/base",
      "model_module_version": "1.2.0",
      "model_name": "LayoutModel",
      "state": {
       "_model_module": "@jupyter-widgets/base",
       "_model_module_version": "1.2.0",
       "_model_name": "LayoutModel",
       "_view_count": null,
       "_view_module": "@jupyter-widgets/base",
       "_view_module_version": "1.2.0",
       "_view_name": "LayoutView",
       "align_content": null,
       "align_items": null,
       "align_self": null,
       "border": null,
       "bottom": null,
       "display": null,
       "flex": null,
       "flex_flow": null,
       "grid_area": null,
       "grid_auto_columns": null,
       "grid_auto_flow": null,
       "grid_auto_rows": null,
       "grid_column": null,
       "grid_gap": null,
       "grid_row": null,
       "grid_template_areas": null,
       "grid_template_columns": null,
       "grid_template_rows": null,
       "height": null,
       "justify_content": null,
       "justify_items": null,
       "left": null,
       "margin": null,
       "max_height": null,
       "max_width": null,
       "min_height": null,
       "min_width": null,
       "object_fit": null,
       "object_position": null,
       "order": null,
       "overflow": null,
       "overflow_x": null,
       "overflow_y": null,
       "padding": null,
       "right": null,
       "top": null,
       "visibility": null,
       "width": null
      }
     },
     "f67074c534dd4bfb8e90520f5c0f2ecd": {
      "model_module": "@jupyter-widgets/base",
      "model_module_version": "1.2.0",
      "model_name": "LayoutModel",
      "state": {
       "_model_module": "@jupyter-widgets/base",
       "_model_module_version": "1.2.0",
       "_model_name": "LayoutModel",
       "_view_count": null,
       "_view_module": "@jupyter-widgets/base",
       "_view_module_version": "1.2.0",
       "_view_name": "LayoutView",
       "align_content": null,
       "align_items": null,
       "align_self": null,
       "border": null,
       "bottom": null,
       "display": null,
       "flex": null,
       "flex_flow": null,
       "grid_area": null,
       "grid_auto_columns": null,
       "grid_auto_flow": null,
       "grid_auto_rows": null,
       "grid_column": null,
       "grid_gap": null,
       "grid_row": null,
       "grid_template_areas": null,
       "grid_template_columns": null,
       "grid_template_rows": null,
       "height": null,
       "justify_content": null,
       "justify_items": null,
       "left": null,
       "margin": null,
       "max_height": null,
       "max_width": null,
       "min_height": null,
       "min_width": null,
       "object_fit": null,
       "object_position": null,
       "order": null,
       "overflow": null,
       "overflow_x": null,
       "overflow_y": null,
       "padding": null,
       "right": null,
       "top": null,
       "visibility": null,
       "width": null
      }
     }
    },
    "version_major": 2,
    "version_minor": 0
   }
  }
 },
 "nbformat": 4,
 "nbformat_minor": 5
}
